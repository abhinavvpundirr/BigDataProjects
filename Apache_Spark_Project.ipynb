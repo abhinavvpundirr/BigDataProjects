{
 "cells": [
  {
   "cell_type": "markdown",
   "id": "af049a1e",
   "metadata": {},
   "source": [
    "<hr style=\"border-top: 5px solid purple; margin-top: 1px; margin-bottom: 1px\"></hr>"
   ]
  },
  {
   "cell_type": "markdown",
   "id": "6186201f",
   "metadata": {},
   "source": [
    "Complete the following guide for setting up your Spark cluster. You will log in via a command-line interface, and then\n",
    "write PySpark code to experiment with the K-Means Clustering Algorithm. At completion, submit your code from\n",
    "Sections 2.2 onward, along with answers to the questions in the cells provided.\n",
    "\n",
    "<br />\n",
    "\n",
    "<div style=\"font-size:20px;color:red;\">\n",
    "NOTE: Be aware of the billing costs of your cluster. Dataproc clusters, when deployed, begin charging for use by the\n",
    "minute. If you plan to take a break at any point during your assignment, you may want to \"stop\" your cluster. You can restart the cluster later on to continue!\n",
    "</div>"
   ]
  },
  {
   "cell_type": "markdown",
   "id": "27d890b0",
   "metadata": {},
   "source": [
    "<div style=\"font-size:30px;color:#3665af;background-color:#E9E9F5;padding:10px;\">1. Deploy a Dataproc Cluster </div>\n"
   ]
  },
  {
   "cell_type": "markdown",
   "id": "e925d020",
   "metadata": {},
   "source": [
    "* <p>Set up a small cluster loaded with Spark.</p>\n",
    "* <p>Connect to it</p>"
   ]
  },
  {
   "cell_type": "markdown",
   "id": "029b0867",
   "metadata": {},
   "source": [
    "Follow these instructions to deploy a Spark Dataproc Cluster. An example run of the command line steps are shown at\n",
    "the bottom of this section. The symbol <span style=\"background-color: #fff0fa\">$</span> in the following instructions represent your command line prompt, and does\n",
    "not need to be copied."
   ]
  },
  {
   "cell_type": "markdown",
   "id": "f0305293",
   "metadata": {},
   "source": [
    "<div style=\"font-size:20px;color:#F1F8FC;background-color:#0095EA;padding:10px;\">1.1 To create your Dataproc Cluster, do the following:</div>\n",
    "\n",
    "<p style=\"font-size:15px; \"> <b>1.</b> We are assuming you still have a Project in Google Cloud. If you don't, <a href=\"https://cloud.google.com/resource-manager/docs/creating-managing-projects\">create one</a>.</p>\n",
    "<p style=\"font-size:15px; \"> <b>2.</b> If you haven't yet, download and install <a href=\"https://cloud.google.com/sdk/\">Google Cloud SDK</a>.</p>\n",
    "\n",
    "<p style=\"font-size:15px; \"> <b>3.</b> If you haven't yet, authenticate your Google SDK with your Google Cloud account.</p>\n",
    "\n",
    "<p style=\"background-color: #f2f2f2; font-size:20px\">$ gcloud auth login</p>\n",
    "\n",
    "<p style=\"font-size:15px; \"> <b>4.</b> If you haven't yet, associate your Google SDK with your Google Cloud project that you just created, using it's project name.</p>\n",
    "\n",
    "<p style=\"background-color: #f2f2f2; font-size:20px\">$ gcloud config set project [project name]</p>\n",
    "\n",
    "<p style=\"font-size:15px; \"> <b>5.</b> Create a storage bucket. Name your bucket whatever you want.</p>\n",
    "\n",
    "<p style=\"background-color: #f2f2f2; font-size:20px\">$ gsutil mb -c regional -l us-west1 gs://[bucket name] </p>\n",
    "\n",
    "<p style=\"font-size:15px; \"> <b>6.</b> We want to copy a public data set from Google BigQuery. We can use the <span style=\"background-color: #fff0fa\">bq</span> utility for this. Again, replace\n",
    "[bucket name] with your bucket's name. Since this is a very large file (1.2GB), we will use the wildcard format (*),\n",
    "which allows BigQuery to export it as multiple files to our bucket.</p>\n",
    "\n",
    "<p style=\"background-color: #f2f2f2; font-size:20px\">$ bq extract 'bigquery-public-data:chicago_crime.crime' 'gs://[bucket name]/crime-*.csv'</p>\n",
    "\n",
    "<p style=\"font-size:15px; \"> <b>7.</b> We will be requesting 3 workers with 2 cores per worker, so we can demonstrate the speedup of distribution. Ideally we'd want to use more cores to really see the speedup, but we're limited by the quotas set during the Google Cloud trial. \n",
    "Dataproc has a variety of initialization scripts that you can choose from. We will be using their Miniconda installation script, which\n",
    "will provide us with Python 3 PySpark (Python 3 is selected via the MINICONDA_VARIANT metadata argument)</p>\n",
    "\n"
   ]
  },
  {
   "cell_type": "markdown",
   "id": "71dfb056",
   "metadata": {},
   "source": [
    "<p style=\"background-color: #f2f2f2; font-size:20px\">gcloud dataproc clusters create [cluster-name] \\    <br>\n",
    "&emsp;&emsp;--project '[project-name]' \\<br>\n",
    "&emsp;&emsp;--bucket '[bucket-name]' \\<br>\n",
    "&emsp;&emsp;--metadata \"MINICONDA_VARIANT=3\" \\<br>\n",
    "&emsp;&emsp;--num-workers 3 \\<br>\n",
    "&emsp;&emsp;--properties spark:spark.executorEnv.PYTHONHASHSEED=0,spark:spark.yarn.am.memory=1024m \\<br>\n",
    "&emsp;&emsp;--worker-machine-type=n1-standard-2 \\<br>\n",
    "&emsp;&emsp;--master-machine-type=n1-standard-2 \\<br>\n",
    "&emsp;&emsp;--region us-west1 \\<br>\n",
    "&emsp;&emsp;--master-boot-disk-size=200GB \\<br>\n",
    "&emsp;&emsp;--worker-boot-disk-size=200GB \n",
    "</p>"
   ]
  },
  {
   "cell_type": "markdown",
   "id": "983588a3",
   "metadata": {},
   "source": [
    "This may take a few minutes to complete. If you get an error about exceeding your CPUs quota, make sure your REDIS instaces aren't still running (you can check under Computer Engine > VM Instances in the sidebar).\n",
    "\n",
    "<p style=\"font-size:15px; \"> <b>8.</b> Connect via SSH to the master node</p>\n",
    "\n",
    "* <p>Go to <a href=\"https://console.cloud.google.com/\">Google Cloud Console</a> </p>\n",
    "* <p>Click Compute Engine > VM Instances . You should see something like this:</p>\n",
    "\n",
    "![title](jupyter_connection.png \"Picture\")\n"
   ]
  },
  {
   "cell_type": "markdown",
   "id": "33931019",
   "metadata": {},
   "source": [
    "* Your master node has your [cluster-name] followed by an <span style=\"background-color: #fff0fa\">-m</span> . Click on the button labelled <span style=\"background-color: #fff0fa\">SSH</span> for your master\n",
    "node, under the \"Connect\" column. This will load a terminal."
   ]
  },
  {
   "cell_type": "markdown",
   "id": "308bdd82",
   "metadata": {},
   "source": [
    "<p style=\"font-size:15px; \"> <b>9.</b> Once your terminal fully loads, install numpy, then run a Python Spark REPL (command in the cell below) from the command line of the master\n",
    "node. The following command requests that PySpark is issued 16 cores from Yarn, which is the cluster manager\n",
    "used in Dataproc clusters.</p>"
   ]
  },
  {
   "cell_type": "markdown",
   "id": "09febea4",
   "metadata": {},
   "source": [
    "<div class=\"alert alert-block alert-warning\">\n",
    "<b>NOTE: </b> Do not attempt this until your previous step has terminated.         \n",
    "</div>"
   ]
  },
  {
   "cell_type": "raw",
   "id": "8fbc3d08",
   "metadata": {},
   "source": [
    "# ssh terminal for the master node\n",
    "$ pyspark --master yarn --num-executors 3 --executor-cores 2 "
   ]
  },
  {
   "cell_type": "markdown",
   "id": "3fb40167",
   "metadata": {},
   "source": [
    "You're In!"
   ]
  },
  {
   "cell_type": "markdown",
   "id": "73dee8de",
   "metadata": {},
   "source": [
    "<span style=\"font-size:35px\">Example:</span>"
   ]
  },
  {
   "cell_type": "raw",
   "id": "07386818",
   "metadata": {},
   "source": [
    "# step 3\n",
    "$ glcoud auth login\n",
    "# This will open a link in your browser and ask for access to your google cloud porject.\n",
    "\n",
    "# step 4\n",
    "$ gcloud config set project big-data-course-197521\n",
    "\n",
    "# step 5\n",
    "$ gsutil mb -c regional -l us-west1 gs://my-bucket-20180406\n",
    "\n",
    "# step 6\n",
    "$ bq extract 'bigquery-public-data:chicago_crime.crime' 'gs://my-bucket-20180406/crime-*.csv'\n",
    "\n",
    "# step 7\n",
    "$ gcloud dataproc clusters create 'dataproc-20180406' \\\n",
    "--bucket 'my-bucket-20180406' \\\n",
    "--metadata \"MINICONDA_VARIANT=3\" \\\n",
    "--num-workers 3 \\\n",
    "--properties\n",
    "spark:spark.executorEnv.PYTHONHASHSEED=0,spark:spark.yarn.am.memory=1024m \\\n",
    "--worker-machine-type=n1-standard-2 \\\n",
    "--master-machine-type=n1-standard-2 \\\n",
    "--region us-west1 \\\n",
    "--master-boot-disk-size=200GB \\\n",
    "--worker-boot-disk-size=200GB\n",
    "\n",
    "# step 8 - within the terminal window for your master node\n",
    "$ pyspark --master yarn --num-executors 3 --executor-cores 2\n",
    "\n",
    ">>> # PySpark is running with 3x2 = 6 cores"
   ]
  },
  {
   "cell_type": "markdown",
   "id": "92fb879b",
   "metadata": {},
   "source": [
    "<hr style=\"border-top: 5px solid purple; margin-top: 1px; margin-bottom: 1px\"></hr>"
   ]
  },
  {
   "cell_type": "markdown",
   "id": "8db60900",
   "metadata": {},
   "source": [
    "<div style=\"font-size:30px;color:#3665af;background-color:#e1dfb1;padding:10px;\">Exercise </div>"
   ]
  },
  {
   "cell_type": "markdown",
   "id": "294ce7bd",
   "metadata": {},
   "source": [
    "<div style=\"font-size:30px;color:#3665af;background-color:#E9E9F5;padding:10px;\"> 2. Cluster Analysis of Crime Data</div>\n",
    "\n",
    "We have a large set of crime data from the city of Chicago, Illinois. We have been asked by the city to find the optimal\n",
    "placement of police stations based on this data, so that they can more quickly respond to violent crime. In order to\n",
    "achieve this, we will use the [K-Means](https://en.wikipedia.org/wiki/K-means_clustering) algorithm, to find the geographic centroids for some number of data clusters. Meanwhile you will also: \n",
    "\n",
    "- set up a k-means clustering algorithm using Spark\n",
    "- observe the runtime\n",
    "- observe the silhouette coeffienct value for different clusters\n",
    "- find a good k value"
   ]
  },
  {
   "cell_type": "markdown",
   "id": "403b82b3",
   "metadata": {},
   "source": [
    "<div class=\"alert alert-block alert-warning\">\n",
    "<b>IMPORTANT</b> Use the seed value 0 for every KMeans algorithm you create. Example:\n",
    "        \n",
    "    Kmeans(seed = 0)\n",
    "\n",
    "</div>"
   ]
  },
  {
   "cell_type": "markdown",
   "id": "9d296470",
   "metadata": {},
   "source": [
    "<div style=\"font-size:20px;color:#F1F8FC;background-color:#0095EA;padding:10px;\">2.1 Setup</div>"
   ]
  },
  {
   "cell_type": "markdown",
   "id": "b1ed1bf9",
   "metadata": {},
   "source": [
    "<div class=\"alert alert-block alert-success\">\n",
    "\n",
    "#### The following code can be pasted into your PySpark [REPL](https://en.wikipedia.org/wiki/Read%E2%80%93eval%E2%80%93print_loop), which appears as a python prompt >>> :\n",
    "\n",
    "```\n",
    "# library dependencies\n",
    "from datetime import datetime\n",
    "from pyspark.ml.linalg import Vectors\n",
    "from pyspark.ml.clustering import KMeans\n",
    "from pyspark.ml.feature import VectorAssembler\n",
    "```\n",
    "\n",
    "#### Substitute your [bucket name] and paste in this line:\n",
    "\n",
    "```\n",
    "data_url = \"gs://[bucket name]/crime-*.csv\"\n",
    "```\n",
    "\n",
    "#### These lines will load in your data that we copied from BigQuery:\n",
    "\n",
    "```\n",
    "# read in our csv as a Spark DataFrame\n",
    "raw_data = (\n",
    "spark\n",
    ".read\n",
    ".option(\"header\", \"true\") # the first line is used to create meaningful column names\n",
    ".option(\"inferschema\", \"true\") # infer the data types in each column\n",
    ".option(\"mode\", \"DROPMALFORMED\") # remove rows with values that are illegal\n",
    ".csv(data_url) # the wildcard-embedded URL pattern to use\n",
    ")#\n",
    "# One liner\n",
    "raw_data = (spark.read.option(\"header\", \"true\").option(\"inferschema\", \"true\").option(\"mode\", \"DROPMALFORMED\").csv(data_url))   \n",
    "#remove two outliers at position (0,0) - you're welcome! ;-)\n",
    "raw_data = raw_data.where((raw_data.x_coordinate != 0) | (raw_data.y_coordinate != 0))\n",
    "```\n",
    "    \n",
    "</div>"
   ]
  },
  {
   "cell_type": "markdown",
   "id": "e67026f9",
   "metadata": {},
   "source": [
    "<div style=\"font-size:20px;color:#F1F8FC;background-color:#0095EA;padding:10px;\">2.2 Create a Feature Column</div>"
   ]
  },
  {
   "cell_type": "markdown",
   "id": "7c36e433",
   "metadata": {},
   "source": [
    "<div class=\"alert alert-block alert-success\">\n",
    "    \n",
    "Spark requires us to collect our features into a single column. It supports many forms of [feature extraction](https://spark.apache.org/docs/latest/ml-features), for different data types and different algorithms. We will use a VectorAssembler to assemble our columns x_coordinate and y_coordinate into a 2D array on a new column named features.\n",
    "\n",
    "#### Create a feature column\n",
    "```\n",
    "# use pyspark.ml.feature.VectorAssembler() to create a feature column\n",
    "```\n",
    "    \n",
    "</div>"
   ]
  },
  {
   "cell_type": "raw",
   "id": "8b9dd17b",
   "metadata": {},
   "source": [
    "assembler = VectorAssembler(inputCols=[\"x_coordinate\", \"y_coordinate\"], outputCol=\"features\")\n",
    "selected_features = raw_data.select(\"x_coordinate\", \"y_coordinate\")\n",
    "assembled_data = assembler.transform(selected_features)"
   ]
  },
  {
   "cell_type": "markdown",
   "id": "4a925e5e",
   "metadata": {},
   "source": [
    "<div style=\"font-size:20px;color:#F1F8FC;background-color:#0095EA;padding:10px;\">2.3 A test of K-Means</div>"
   ]
  },
  {
   "cell_type": "markdown",
   "id": "b455b253",
   "metadata": {},
   "source": [
    "<div class=\"alert alert-block alert-success\">\n",
    "\n",
    "We can run Apache Spark's built-in [KMeans](https://spark.apache.org/docs/2.2.0/api/python/pyspark.mllib.html#pyspark.mllib.clustering.KMeans) algorithm to attempt to find any finite number of clusters. <b> Run a K-Means model with k=2 </b>. See the [documentation](http://spark.apache.org/docs/2.2.0/ml-clustering.html) for clustering in Apache Spark for an example. Again, please set your seed value to 0.\n",
    "    \n",
    "#### Show the cluster centers and wssse value below\n",
    "    \n",
    "</div>"
   ]
  },
  {
   "cell_type": "raw",
   "id": "1e97cfe9",
   "metadata": {},
   "source": [
    "## Place your code and output here\n",
    "//K-Means Model\n",
    "k=2\n",
    "seed = 0\n",
    "kmeans = KMeans(k=k, seed=seed)\n",
    "model = kmeans.fit(assembled_data)\n",
    "predictions = model.transform(assembled_data)\n",
    "\n",
    "//Cluster Centers\n",
    "Code:-\n",
    "centers = model.clusterCenters()\n",
    "for i in range(k):\n",
    "    print(\"Cluster {}: {}\".format(i+1, centers[i]))\n",
    "    \n",
    "Output:-\n",
    "Cluster 1: [1156258.0455236  1911348.62400518]\n",
    "Cluster 2: [1174252.08444137 1856376.82783506]\n",
    "\n",
    "//Wssse Value\n",
    "My Spark version is above 3 and thats why I couldn't use computecost method since its not available in the later versions.\n",
    "\n",
    "Code:-\n",
    "from pyspark.ml.evaluation import ClusteringEvaluator\n",
    "evaluator = ClusteringEvaluator()\n",
    "Wssse = evaluator.evaluate(predictions)\n",
    "print(\"WSSSE: {}\".format(Wssse))\n",
    "\n",
    "Output:-\n",
    "WSSSE: 0.7584059021938043"
   ]
  },
  {
   "cell_type": "markdown",
   "id": "339af1ba",
   "metadata": {},
   "source": [
    "<div style=\"font-size:20px;color:#F1F8FC;background-color:#0095EA;padding:10px;\">2.4 Exporting k with respect to runtime</div>"
   ]
  },
  {
   "cell_type": "markdown",
   "id": "12bbcf84",
   "metadata": {},
   "source": [
    "<div class=\"alert alert-block alert-success\">\n",
    "    \n",
    "As k increases, we increase the work required to train our model. We should expect the duration of model training to increase. How does running this on a compute cluster compare to running it on our own computer?\n",
    "\n",
    "<b>Run K-Means with k={2,102,202,302,402}. Run each k value a couple of times and average the result. Capture the runtime by surrounding only the model training code with calls to datetime.now()</b>. \n",
    "\n",
    "    Note: It may save you time to wrap your model in a for loop, iterating over a range() of k values.\n",
    "\n",
    "Here are time values for training at different k values on a local deployment of Apache Spark on a Quad Core i7 with 16GB RAM:\n",
    "\n",
    "</div>\n",
    "    \n",
    "| k | local runtime |\n",
    "| :-: | :-: |\n",
    "| 2 | 0:00:32.240732 |\n",
    "| 102 | 0:01:32.956807 |\n",
    "| 202 | 0:02:19.142536 |\n",
    "| 302 | 0:02:53.870777 |\n",
    "| 402 | 0:03:23.362213 |\n",
    "    \n"
   ]
  },
  {
   "cell_type": "markdown",
   "id": "ebafb834",
   "metadata": {},
   "source": [
    "<div class=\"alert alert-block alert-success\">\n",
    "    \n",
    "#### What runtimes did you observe for these values of k?\n",
    "    \n",
    "</div>"
   ]
  },
  {
   "cell_type": "raw",
   "id": "5a044f30",
   "metadata": {},
   "source": [
    "## Place your code and output here\n",
    "k_values = [2, 102, 202, 302, 402]\n",
    "for k in k_values:\n",
    "    total_run = 0\n",
    "    runs = 2\n",
    "    for i in range(runs):\n",
    "        kmeans = KMeans(k=k, seed=0)\n",
    "        start_time = datetime.now()\n",
    "        model = kmeans.fit(assembled_data)\n",
    "        end_time = datetime.now()\n",
    "        run = (end_time - start_time).total_seconds()\n",
    "        total_run += run\n",
    "    avg_runtime = total_run / runs\n",
    "    print(\"k = {}: Average Time= {} seconds\".format(k,avg_runtime))\n",
    "\n",
    "Output:-\n",
    "k = 2:   Average Time= 64.207481 seconds \n",
    "k = 102: Average Time= 82.3758995 seconds\n",
    "k = 202: Average Time= 99.310859 seconds\n",
    "k = 302: Average Time= 117.8642745 seconds\n",
    "k = 402: Average Time= 131.830251 seconds"
   ]
  },
  {
   "cell_type": "markdown",
   "id": "87046d62",
   "metadata": {},
   "source": [
    "<div class=\"alert alert-block alert-success\">\n",
    "\n",
    "<b>Informally describe the speedup you observed in this experiment</b>, with respect to\n",
    "the degree of parallelism, compared to the runtimes on the Quad Core i7. for example:\n",
    "\"speed improved on average by 8x when we increased the number of cores by 4x.\"\n",
    "    \n",
    "</div>"
   ]
  },
  {
   "cell_type": "raw",
   "id": "eb2b1a1e",
   "metadata": {},
   "source": [
    "## Place your description here\n",
    "\n",
    "Here is the speed up comparsion that i observed in the above experiment :\n",
    "\n",
    "Number of Clusters\tQuad Core I7 Runtime (seconds)  Google cloud spark runtime (seconds)    % Increase or decrease\n",
    "K=2\t                         32.23\t                          64.20\t                             99.1% increase\n",
    "K=102\t                     92.95\t                          82.37\t                             11.3% decrease\n",
    "K=202\t                     139.14\t                          99.31\t                             28.62% decrease\n",
    "K=302\t                     173.87\t                          117.86\t                         32.21% decrease\n",
    "K=402\t                     203.36\t                          131.83\t                         35.17% decrease\n",
    "\n",
    "\n",
    "\n"
   ]
  },
  {
   "cell_type": "markdown",
   "id": "081b91b4",
   "metadata": {},
   "source": [
    "<div style=\"font-size:20px;color:#F1F8FC;background-color:#0095EA;padding:10px;\">2.5 Solving the Problem</div>"
   ]
  },
  {
   "cell_type": "markdown",
   "id": "81ae3a29",
   "metadata": {},
   "source": [
    "<div class=\"alert alert-block alert-success\">\n",
    "\n",
    "Our approach is fine, but there is a flaw. We have not truly addressed the problem that was posed to us. The Chicago Police requested that we find ideal locations to help them respond to violent crime. How can we address this? Consider the [Illinois IUCR Categories for violent crime](https://home.chicagopolice.org/statistics-data/statistical-reports/), and filter our dataset to more appropriately address violent crime.\n",
    "    \n",
    "</div>"
   ]
  },
  {
   "cell_type": "markdown",
   "id": "3ddc6a77",
   "metadata": {},
   "source": [
    "<div class=\"alert alert-block alert-success\">\n",
    "    \n",
    "#### How did you choose to represent \"violent crime\"?\n",
    "    \n",
    "</div>"
   ]
  },
  {
   "cell_type": "raw",
   "id": "51aac196",
   "metadata": {},
   "source": [
    "## Place your description and code here\n",
    "\n",
    "Code:-\n",
    "from pyspark.sql.functions import col\n",
    "violent_crimes_iucr = [\"0110\", \"0130\", \"0261\", \"0262\", \"0263\", \"0264\", \"0265\", \"0266\", \"0271\", \"0272\", \"0273\", \"0274\", \"0275\", \"0281\", \"0291\", \"1753\", \"1754\", \"1755\", \"1756\", \"1757\", \"1758\", \"1759\", \"1760\", \"1761\", \"1762\", \"1763\", \"1764\", \"1765\", \"1766\", \"1767\", \"1768\", \"1769\", \"2091\", \"2092\", \"2093\", \"2094\", \"2095\", \"2110\", \"2170\", \"2180\", \"2200\", \"2210\", \"2220\", \"2240\", \"2250\", \"2300\", \"2320\", \"2330\", \"2340\", \"2410\", \"2430\", \"2440\", \"2460\", \"2470\", \"2480\", \"2490\", \"2510\", \"2520\", \"2530\", \"2540\", \"2550\", \"2560\", \"2570\", \"2580\", \"2610\", \"2620\", \"2630\", \"2650\", \"2660\", \"2670\", \"2680\", \"2710\", \"2711\", \"2712\", \"2720\", \"2730\", \"2740\", \"2750\", \"2810\", \"2820\", \"2830\", \"2840\", \"2850\", \"2851\", \"2852\", \"2900\", \"2910\", \"2920\", \"2930\", \"2940\", \"2950\", \"2951\", \"2990\", \"3000\", \"3020\", \"3030\", \"3100\", \"3250\", \"3255\", \"3257\", \"3258\", \"3260\", \"3261\", \"3270\", \"3271\", \"3272\", \"3280\", \"3290\", \"3310\", \"3311\", \"3312\", \"3313\", \"3314\", \"3315\", \"3316\", \"3317\", \"3318\", \"3319\", \"3320\", \"3330\", \"3340\", \"3350\", \"3360\", \"3370\", \"3380\", \"3390\", \"3410\", \"3411\", \"3412\", \"3413\", \"3414\", \"3415\", \"3416\", \"3417\", \"3418\", \"3419\", \"3420\", \"3430\", \"3431\", \"3432\", \"3433\", \"3434\", \"3435\", \"3436\", \"3437\", \"3438\", \"3439\", \"3440\", \"3450\"]\n",
    "\n",
    "filtered_violent_crime_data = raw_data.filter(col(\"IUCR\").isin(violent_crimes_iucr))\n",
    "training_set_size=filtered_violent_crime_data.count()\n",
    "\n",
    "Description:-\n",
    "\n",
    "I chose to represent violent crime by getting all the IUCR values from the chicago police department website. After getting all the IUCR values , i sorted them out based on the violent crimes listed in the URL above. Once i got the list of all IUCR values that come under violent crime , i used isin method to filter out the crimes with IUCR values of violent crimes."
   ]
  },
  {
   "cell_type": "markdown",
   "id": "ab5bbc67",
   "metadata": {},
   "source": [
    "<div class=\"alert alert-block alert-success\">\n",
    "    \n",
    "#### What is the resulting size of our training set?\n",
    "    \n",
    "</div>"
   ]
  },
  {
   "cell_type": "raw",
   "id": "a2111457",
   "metadata": {},
   "source": [
    "## Place your output here\n",
    "\n",
    "The resulting size of our training set is: 316713"
   ]
  },
  {
   "cell_type": "markdown",
   "id": "59dc5808",
   "metadata": {},
   "source": [
    "<div style=\"font-size:20px;color:#F1F8FC;background-color:#0095EA;padding:10px;\">2.6 Finding a good value for k</div>"
   ]
  },
  {
   "cell_type": "markdown",
   "id": "3f5c098e",
   "metadata": {},
   "source": [
    "<div class=\"alert alert-block alert-success\">\n",
    "\n",
    "We can evaluate our Spark KMeans algorithm using a method called the silhouette method. From the [documentation](https://spark.apache.org/docs/latest/ml-clustering.html), the optimal k is usually one where there is an efficient silhouette coefficient value in the silhouette graph, where silhouette value is the output of evaluate(). Let's try exploring these silhouette coefficient values and see if we can find the best silhouette coefficient for different clusters. You can think of it visually as a range of values between [-1,1] where a high value indicates that the object is well matched to its own cluster and poorly matched to neighboring clusters. If most objects have a high value, then the clustering configuration is appropriate. <br>(https://scikit-learn.org/stable/auto_examples/cluster/plot_kmeans_silhouette_analysis.html) <br><br>\n",
    "\n",
    "To do this, capture the silhouette coefficient value for many successive values of k. You will have to explore to find a meaningful range for these k values. For each value, run KMeans() and fit() it, print() and visualize both k and silhouette coefficient values for each model. Use matplotlib to plot your output. Make sure to save your plot to a file, you'll need to transer this image from the DataProc cluster and submit it with your assignment. \n",
    "    \n",
    "</div>"
   ]
  },
  {
   "cell_type": "markdown",
   "id": "d17704a4",
   "metadata": {},
   "source": [
    "<div class=\"alert alert-block alert-success\">\n",
    "    \n",
    "#### What is the optimal k value that you have selected?\n",
    "    \n",
    "</div>"
   ]
  },
  {
   "cell_type": "raw",
   "id": "35b2bca7",
   "metadata": {},
   "source": [
    "## Place your code and output here\n",
    "Code:-\n",
    "\n",
    "assembl = VectorAssembler(inputCols=[\"x_coordinate\", \"y_coordinate\"], outputCol=\"features\")\n",
    "selected_feat = filtered_violent_crime_data.select(\"x_coordinate\", \"y_coordinate\")\n",
    "assembled_data=assembl.setHandleInvalid(\"skip\").transform(selected_feat)\n",
    "klist = []\n",
    "slist = []\n",
    "for k in range(2, 11):\n",
    "  kmeans = KMeans(k= k,seed=0)\n",
    "  model=kmeans.fit(filtered_violent_crime_data)\n",
    "  predictions = model.transform(filtered_violent_crime_data)\n",
    "  evaluator = ClusteringEvaluator()\n",
    "  sil_coff = evaluator.evaluate(predictions)\n",
    "  klist.append(k)\n",
    "  slist.append(sil_coff)\n",
    "  print(\"For k =\", k, \"Silhouette coefficient =\", sil_coff)\n",
    "plt.plot(klist, slist, 'bo-')\n",
    "plt.xlabel('k')\n",
    "plt.ylabel('Silhouette Coefficient')\n",
    "plt.title('K-Means Clustering Evaluation')\n",
    "plt.show()\n",
    "plt.savefig('image1.png')\n",
    "  \n",
    "Output:-\n",
    "For k = 2 Silhouette coefficient = 0.7659265643849397              \n",
    "For k = 3 Silhouette coefficient = 0.6306540750317368          \n",
    "For k = 4 Silhouette coefficient = 0.5675564463129464\n",
    "For k = 5 Silhouette coefficient = 0.5431113083882965              \n",
    "For k = 6 Silhouette coefficient = 0.5696282418330442              \n",
    "For k = 7 Silhouette coefficient = 0.5802489276181058\n",
    "For k = 8 Silhouette coefficient = 0.5872924558679813\n",
    "For k = 9 Silhouette coefficient = 0.5401466573085624 \n",
    "For k = 10 Silhouette coefficient = 0.554200884465884\n",
    "\n",
    "\n",
    "\n",
    "The optimal k value would be 2 because the Silhouette coefficient is the highest when k=2."
   ]
  },
  {
   "cell_type": "markdown",
   "id": "60461330",
   "metadata": {},
   "source": [
    "<div class=\"alert alert-block alert-success\">\n",
    "    \n",
    "#### Please provide the cluster centers that you have found for your model with your chosen k.\n",
    "    \n",
    "</div>"
   ]
  },
  {
   "cell_type": "raw",
   "id": "66a62dae",
   "metadata": {},
   "source": [
    "## Place your results here\n",
    "\n",
    "Code:-\n",
    "k=2\n",
    "seed = 0\n",
    "kmeans = KMeans(k=k, seed=seed)\n",
    "model = kmeans.fit(assembled_data)\n",
    "predictions = model.transform(assembled_data)\n",
    "centers = model.clusterCenters()\n",
    "for i in range(k):\n",
    "    print(\"Cluster {}: {}\".format(i+1, centers[i]))\n",
    "    \n",
    "Output:-\n",
    "Cluster 1: [1153294.2958753 1910174.750492 ]\n",
    "Cluster 2: [1174758.18856 1856619.06918274]\n"
   ]
  },
  {
   "cell_type": "markdown",
   "id": "f0b4df5b",
   "metadata": {},
   "source": [
    "<div class=\"alert alert-block alert-success\">\n",
    "        \n",
    "#### Please include your silhouette coefficient value plot.\n",
    "    \n",
    "</div>"
   ]
  },
  {
   "cell_type": "raw",
   "id": "e5181061",
   "metadata": {},
   "source": [
    "## Include your plot with your submission on Canvas, and list the file name you used here. \n",
    "## You can use the \"Download File\" button in the Google Cloud SSH window to download your plot. \n",
    "\n",
    "\n",
    "File name --> image1.png"
   ]
  },
  {
   "cell_type": "markdown",
   "id": "14c64111",
   "metadata": {},
   "source": [
    "<div class=\"alert alert-block alert-success\">\n",
    "    \n",
    "#### Be sure to share your new knowledge with any friends you have in Chicago.\n",
    "    \n",
    "</div>"
   ]
  },
  {
   "cell_type": "markdown",
   "id": "35cf356a",
   "metadata": {},
   "source": [
    "<div style=\"font-size:20px;color:#F1F8FC;background-color:#0095EA;padding:10px;\">2.7 Plot your cluster centers</div>"
   ]
  },
  {
   "cell_type": "markdown",
   "id": "5ce0a13c",
   "metadata": {},
   "source": [
    "Export the cluster centers from your final model, and plot them in a scatter plot using Jupyter and matplotlib."
   ]
  },
  {
   "cell_type": "code",
   "execution_count": 8,
   "id": "e424f9ed",
   "metadata": {},
   "outputs": [
    {
     "data": {
      "image/png": "[encoded data removed]",
      "text/plain": [
       "<Figure size 640x480 with 1 Axes>"
      ]
     },
     "metadata": {},
     "output_type": "display_data"
    }
   ],
   "source": [
    "## Place your code here\n",
    "import matplotlib.pyplot as plt\n",
    "# Putting the cluster center value directly from the output that we calculated earlier\n",
    "C1=[1153294.2958753,1910174.750492]\n",
    "C2=[1174758.18856,1856619.06918274]\n",
    "plt.scatter(C1, C2, c='red')\n",
    "plt.xlabel('Feature 1')\n",
    "plt.ylabel('Feature 2')\n",
    "plt.title('Cluster Centers')\n",
    "plt.show()\n",
    "plt.savefig('image2.png')"
   ]
  },
  {
   "cell_type": "raw",
   "id": "471d5957",
   "metadata": {},
   "source": [
    "## Include your plot with your submission on Canvas, and list the file name you used here. \n",
    "## You can use the \"Download File\" button in the Google Cloud SSH window to download your plot.\n",
    "\n",
    "\n",
    "File name - image2.png"
   ]
  },
  {
   "cell_type": "markdown",
   "id": "3b47f9c4",
   "metadata": {},
   "source": [
    "<hr style=\"border-top: 5px solid purple; margin-top: 1px; margin-bottom: 1px\"></hr>"
   ]
  },
  {
   "cell_type": "markdown",
   "id": "1778ebdd",
   "metadata": {},
   "source": [
    "<hr style=\"border-top: 5px solid orange; margin-top: 1px; margin-bottom: 1px\"></hr>"
   ]
  }
 ],
 "metadata": {
  "kernelspec": {
   "display_name": "Python 3 (ipykernel)",
   "language": "python",
   "name": "python3"
  },
  "language_info": {
   "codemirror_mode": {
    "name": "ipython",
    "version": 3
   },
   "file_extension": ".py",
   "mimetype": "text/x-python",
   "name": "python",
   "nbconvert_exporter": "python",
   "pygments_lexer": "ipython3",
   "version": "3.10.8"
  }
 },
 "nbformat": 4,
 "nbformat_minor": 5
}
